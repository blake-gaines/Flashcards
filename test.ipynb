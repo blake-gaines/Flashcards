{
 "cells": [
  {
   "cell_type": "code",
   "execution_count": 162,
   "metadata": {},
   "outputs": [],
   "source": [
    "import pandas as pd\n",
    "import re"
   ]
  },
  {
   "cell_type": "code",
   "execution_count": 170,
   "metadata": {},
   "outputs": [
    {
     "data": {
      "text/plain": [
       "0                       胳膊，腿\n",
       "1                         全黑\n",
       "2                         窗帘\n",
       "3       不可以住人 <- inhabitable\n",
       "4                         委员\n",
       "                ...         \n",
       "6780                      元旦\n",
       "6781                     自治区\n",
       "6782                      壮族\n",
       "6783                      广西\n",
       "6784                  祝你今天愉快\n",
       "Length: 6785, dtype: object"
      ]
     },
     "execution_count": 170,
     "metadata": {},
     "output_type": "execute_result"
    }
   ],
   "source": [
    "# words = pd.read_fwf(\"Chinese Words.txt\", colspecs=[(1,1000)],header=None,delimiter='\\n')[0]\n",
    "with open(\"Chinese Words.txt\", \"r\", encoding=\"utf-8-sig\") as f:\n",
    "    words = pd.Series([line for line in f.readlines() if line.strip()]).str.strip()\n",
    "words"
   ]
  },
  {
   "cell_type": "code",
   "execution_count": 164,
   "metadata": {},
   "outputs": [],
   "source": [
    "parser = re.compile(r\"([\\u4e00-\\u9fff,， \\\"“”]+)[<《]?-?([\\S ]*)\")"
   ]
  },
  {
   "cell_type": "code",
   "execution_count": null,
   "metadata": {},
   "outputs": [],
   "source": []
  },
  {
   "cell_type": "code",
   "execution_count": 184,
   "metadata": {},
   "outputs": [
    {
     "name": "stdout",
     "output_type": "stream",
     "text": [
      "Could not parse: hunan, sichuan people known for being good fighters\n",
      "Could not parse: adj 的想 ... as adj as\n",
      "Could not parse: —\n",
      "Could not parse: <- police or government, institution\n",
      "Could not parse: QQ视频\n",
      "Could not parse: 2. 接触\n",
      "Could not parse: T恤\n",
      "Could not parse: wife year of dragon\n",
      "Could not parse: X光\n",
      "Could not parse: 5.阶段的第一个字的发音。\n",
      "Could not parse: 6.战争\n",
      "Could not parse: 7.贫困\n",
      "Could not parse: 8.do you ever, 你曾经对学生说的东西吃惊吗？\n",
      "Could not parse: 9.抵抗的发音。\n",
      "Could not parse: 10.威胁的发音。\n",
      "Could not parse: 1.超市\n",
      "Could not parse: 2.每年的这个时候。Every year this moment\n",
      "Could not parse: 3.采取----措施\n",
      "Could not parse: 4.既的发音和意思\n",
      "Could not parse: 5.意义\n",
      "Could not parse: 6.娱乐\n",
      "Could not parse: 7.差距的第二个字。\n",
      "Could not parse: <动词>心切\n",
      "Could not parse: KTV <- Kareoke\n",
      "Could not parse: 4.采取各种措施，\n",
      "Could not parse: 5.冲突\n",
      "Could not parse: 6.将，访问\n",
      "Could not parse: 7.mei sei si.妇女的意思。\n",
      "Could not parse: 8.争执，\n",
      "Could not parse: 9.困难\n",
      "Could not parse: 10.失望\n",
      "Could not parse: 11.声\n",
      "Could not parse: if you just use 因,\n",
      "Could not parse: *那个电视剧的集很多\n",
      "Could not parse: ________________\n",
      "Could not parse: --数 <- number of things\n",
      "Could not parse: only repeat verbs with subinterval property for duration (e.x. 我到了一年 is correct)\n",
      "Could not parse: for old people: 你多大年纪。\n",
      "Could not parse: people can't be 合理, but there ideas/opinions/explanations can be\n",
      "Could not parse: --化\n",
      "Could not parse: --化\n",
      "Could not parse: Time:\n",
      "Could not parse: 1=\"yao\" for phone numbers\n",
      "Could not parse: . 煤和石油越来越少\n",
      "Could not parse: average\n",
      "Could not parse: lose\n",
      "Could not parse: 1.nothing--什么都没做。\n",
      "Could not parse: 2.fixed--修好了\n",
      "Could not parse: 3.data--流量\n",
      "Could not parse: 4.在路上有很多树。\n",
      "Could not parse: 5.in the pictures，在照片上有的地方有电，有的地方没有电。\n",
      "Could not parse: 6.舅舅vs叔叔\n",
      "Could not parse: 7.好够了。\n",
      "Could not parse: 8.爷爷一直有电。\n",
      "Could not parse: 9.汉字：银行，申请，\n"
     ]
    }
   ],
   "source": [
    "def format_row(row: str):\n",
    "    # if len(row) < 3: return\n",
    "    split = row.split()\n",
    "    # re.findall(zh_regex)\n",
    "    line = re.match(parser, row)\n",
    "    if line:\n",
    "        combined_words, notes = line.groups()\n",
    "    else:\n",
    "        print(f\"Could not parse: {row}\")\n",
    "        return None\n",
    "    words = re.findall(r\"[\\u4e00-\\u9fff]+\", combined_words)\n",
    "    return words, notes\n",
    "\n",
    "m = words.map(format_row).dropna()\n",
    "# m = list(map(format_row, words))"
   ]
  },
  {
   "cell_type": "code",
   "execution_count": 196,
   "metadata": {},
   "outputs": [
    {
     "data": {
      "text/html": [
       "<div>\n",
       "<style scoped>\n",
       "    .dataframe tbody tr th:only-of-type {\n",
       "        vertical-align: middle;\n",
       "    }\n",
       "\n",
       "    .dataframe tbody tr th {\n",
       "        vertical-align: top;\n",
       "    }\n",
       "\n",
       "    .dataframe thead th {\n",
       "        text-align: right;\n",
       "    }\n",
       "</style>\n",
       "<table border=\"1\" class=\"dataframe\">\n",
       "  <thead>\n",
       "    <tr style=\"text-align: right;\">\n",
       "      <th></th>\n",
       "      <th>Words</th>\n",
       "      <th>Notes</th>\n",
       "    </tr>\n",
       "  </thead>\n",
       "  <tbody>\n",
       "    <tr>\n",
       "      <th>0</th>\n",
       "      <td>[胳膊, 腿]</td>\n",
       "      <td></td>\n",
       "    </tr>\n",
       "    <tr>\n",
       "      <th>1</th>\n",
       "      <td>[全黑]</td>\n",
       "      <td></td>\n",
       "    </tr>\n",
       "    <tr>\n",
       "      <th>2</th>\n",
       "      <td>[窗帘]</td>\n",
       "      <td></td>\n",
       "    </tr>\n",
       "    <tr>\n",
       "      <th>3</th>\n",
       "      <td>[不可以住人]</td>\n",
       "      <td>inhabitable</td>\n",
       "    </tr>\n",
       "    <tr>\n",
       "      <th>4</th>\n",
       "      <td>[委员]</td>\n",
       "      <td></td>\n",
       "    </tr>\n",
       "    <tr>\n",
       "      <th>...</th>\n",
       "      <td>...</td>\n",
       "      <td>...</td>\n",
       "    </tr>\n",
       "    <tr>\n",
       "      <th>6780</th>\n",
       "      <td>[元旦]</td>\n",
       "      <td></td>\n",
       "    </tr>\n",
       "    <tr>\n",
       "      <th>6781</th>\n",
       "      <td>[自治区]</td>\n",
       "      <td></td>\n",
       "    </tr>\n",
       "    <tr>\n",
       "      <th>6782</th>\n",
       "      <td>[壮族]</td>\n",
       "      <td></td>\n",
       "    </tr>\n",
       "    <tr>\n",
       "      <th>6783</th>\n",
       "      <td>[广西]</td>\n",
       "      <td></td>\n",
       "    </tr>\n",
       "    <tr>\n",
       "      <th>6784</th>\n",
       "      <td>[祝你今天愉快]</td>\n",
       "      <td></td>\n",
       "    </tr>\n",
       "  </tbody>\n",
       "</table>\n",
       "<p>6785 rows × 2 columns</p>\n",
       "</div>"
      ],
      "text/plain": [
       "         Words         Notes\n",
       "0      [胳膊, 腿]              \n",
       "1         [全黑]              \n",
       "2         [窗帘]              \n",
       "3      [不可以住人]   inhabitable\n",
       "4         [委员]              \n",
       "...        ...           ...\n",
       "6780      [元旦]              \n",
       "6781     [自治区]              \n",
       "6782      [壮族]              \n",
       "6783      [广西]              \n",
       "6784  [祝你今天愉快]              \n",
       "\n",
       "[6785 rows x 2 columns]"
      ]
     },
     "execution_count": 196,
     "metadata": {},
     "output_type": "execute_result"
    }
   ],
   "source": [
    "pd.DataFrame.from_records(m,columns=[\"Words\", \"Notes\"])"
   ]
  },
  {
   "cell_type": "code",
   "execution_count": 198,
   "metadata": {},
   "outputs": [
    {
     "data": {
      "text/plain": [
       "['胳膊', '腿']"
      ]
     },
     "execution_count": 198,
     "metadata": {},
     "output_type": "execute_result"
    }
   ],
   "source": [
    "pd.DataFrame.from_records(m,columns=[\"Words\", \"Notes\"]).iloc[0]['Words']"
   ]
  }
 ],
 "metadata": {
  "kernelspec": {
   "display_name": "Python 3.10.4 ('flashcards')",
   "language": "python",
   "name": "python3"
  },
  "language_info": {
   "codemirror_mode": {
    "name": "ipython",
    "version": 3
   },
   "file_extension": ".py",
   "mimetype": "text/x-python",
   "name": "python",
   "nbconvert_exporter": "python",
   "pygments_lexer": "ipython3",
   "version": "3.10.4"
  },
  "orig_nbformat": 4,
  "vscode": {
   "interpreter": {
    "hash": "db6e60db9fb801145be5dc26b2e72afccca919d72a62089a1891ad902e4edebd"
   }
  }
 },
 "nbformat": 4,
 "nbformat_minor": 2
}
